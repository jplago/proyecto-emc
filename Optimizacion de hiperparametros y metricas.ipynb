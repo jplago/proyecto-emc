{
 "cells": [
  {
   "cell_type": "markdown",
   "id": "7dbc143f",
   "metadata": {},
   "source": [
    "En este notebook\n",
    "- Se optimizan hiperparámetros del pipeline por validación cruzada en cada sitio\n",
    "- Se calculan métricas de entrenamiento y test para los mejores modelos."
   ]
  },
  {
   "cell_type": "code",
   "execution_count": 1,
   "id": "needed-capital",
   "metadata": {
    "ExecuteTime": {
     "end_time": "2022-03-20T15:22:16.172350Z",
     "start_time": "2022-03-20T15:22:11.681391Z"
    }
   },
   "outputs": [],
   "source": [
    "import numpy as np\n",
    "import pandas as pd\n",
    "from sklearn.linear_model import LogisticRegression\n",
    "from sklearn.svm import LinearSVC\n",
    "from sklearn.model_selection import GridSearchCV, StratifiedKFold\n",
    "from imblearn.over_sampling import SMOTE\n",
    "from imblearn.pipeline import Pipeline as imbpipeline\n",
    "from sklearn.metrics import accuracy_score, make_scorer, recall_score, f1_score\n",
    "from sklearn.feature_selection import SelectFromModel\n",
    "pd.set_option('display.max_rows', 100, 'display.max_columns', 100)\n",
    "\n",
    "pheno_cols = ['Age', 'Verbal.IQ', 'Performance.IQ', 'Full4.IQ']"
   ]
  },
  {
   "cell_type": "code",
   "execution_count": 68,
   "id": "c6be6ba6",
   "metadata": {},
   "outputs": [],
   "source": [
    "def specificity_loss_func(y_true, y_pred):\n",
    "    return recall_score(y_true, y_pred, pos_label=0)\n",
    "specificity = make_scorer(specificity_loss_func, greater_is_better=True)\n",
    "\n",
    "# Optimización de hiperparámetros por validación cruzada para el pipeline completo (SMOTE-)elasticnet-SVM\n",
    "\n",
    "def cv_elasticnet_svc(train_data_path, svc_C_values, en_l1_ratios, en_K=25, en_alpha_max = 1000, en_epsilon =.01):\n",
    "    data_train = pd.read_csv(train_data_path)\n",
    "    X_train, y_train = data_train.drop(columns=['DX_bin']), data_train['DX_bin']\n",
    "\n",
    "    # modelos\n",
    "    en = LogisticRegression(penalty='elasticnet', solver='saga', n_jobs=-1, max_iter=100)\n",
    "    selector = SelectFromModel(en)\n",
    "    svc = LinearSVC(random_state=11)\n",
    "\n",
    "    pipeline = imbpipeline(steps = [['smote', SMOTE(random_state=11)],\n",
    "                                    ['selector', selector], \n",
    "                                    ['svc', svc]])\n",
    "\n",
    "    # se define la grilla de hiperparámetros y la partición estratificada\n",
    "    alpha_path = np.exp(np.linspace(np.log(en_alpha_max), np.log(en_alpha_max*en_epsilon), num = en_K))\n",
    "    param_grid = {'selector__estimator__C':1/alpha_path, 'selector__estimator__l1_ratio':en_l1_ratios, 'svc__C':svc_C_values}\n",
    "\n",
    "    stratified_kfold = StratifiedKFold(n_splits=5,\n",
    "                                           shuffle=True,\n",
    "                                           random_state=11)\n",
    "    # se define el scoring\n",
    "    scoring = {'accuracy':'accuracy', 'f1_macro':'f1_macro', 'sensitivity':'recall', 'specificity':specificity}\n",
    "    \n",
    "    # se define y corre la función de validación cruzada\n",
    "    grid_search = GridSearchCV(pipeline, param_grid=param_grid, scoring=scoring, cv=stratified_kfold, refit= 'f1_macro', n_jobs=-1)\n",
    "    grid_search.fit(X_train, y_train)\n",
    "\n",
    "    cols_to_keep = ['param_selector__estimator__C', 'param_selector__estimator__l1_ratio', 'param_svc__C', 'mean_test_accuracy', 'std_test_accuracy', 'mean_test_f1_macro', 'std_test_f1_macro', 'mean_test_sensitivity', 'mean_test_specificity']\n",
    "    df = pd.DataFrame(grid_search.cv_results_)[cols_to_keep]\n",
    "\n",
    "    return df, grid_search\n",
    "\n",
    "def report(grid_search, train_data_path, test_data_path):\n",
    "    data_train = pd.read_csv(train_data_path)\n",
    "    X_train, y_train = data_train.drop(columns=['DX_bin']), data_train['DX_bin']\n",
    "    data_test = pd.read_csv(test_data_path)\n",
    "    X_test, y_test = data_test.drop(columns=['DX_bin']), data_test['DX_bin']\n",
    "\n",
    "    print('Mejores parámetros')\n",
    "    param_cols = ['param_selector__estimator__C', 'param_selector__estimator__l1_ratio', 'param_svc__C']\n",
    "    df = pd.DataFrame(grid_search.cv_results_)\n",
    "    display(df.loc[[df.mean_test_f1_macro.argmax()], param_cols].reset_index(drop=True))\n",
    "    n_nonzero = grid_search.best_estimator_['selector'].get_support().sum()\n",
    "    print(f'Número de variables seleccionadas: {n_nonzero}')\n",
    "\n",
    "    score_cols = ['mean_test_accuracy', 'std_test_accuracy', 'mean_test_f1_macro', 'std_test_f1_macro', 'mean_test_sensitivity', 'mean_test_specificity']\n",
    "    print('\\nMétricas validación cruzada (train)')\n",
    "    display(df.loc[[df.mean_test_f1_macro.argmax()], score_cols].reset_index(drop=True))\n",
    "\n",
    "    print('\\nMétricas train')\n",
    "    y_pred = grid_search.best_estimator_.predict(X_train)\n",
    "    acc = accuracy_score(y_train, y_pred)\n",
    "    f1 = f1_score(y_train, y_pred)\n",
    "    sens = recall_score(y_train, y_pred)\n",
    "    spec = specificity_loss_func(y_train, y_pred)\n",
    "    df = pd.DataFrame({'accuracy':[acc], 'f1_macro':[f1], 'sensitivity':[sens], 'specificity':[spec]})\n",
    "    display(df)\n",
    "\n",
    "    print('\\nMétricas test')\n",
    "    y_pred = grid_search.best_estimator_.predict(X_test)\n",
    "    acc = accuracy_score(y_test, y_pred)\n",
    "    f1 = f1_score(y_test, y_pred)\n",
    "    sens = recall_score(y_test, y_pred)\n",
    "    spec = specificity_loss_func(y_test, y_pred)\n",
    "    df = pd.DataFrame({'accuracy':[acc], 'f1_macro':[f1], 'sensitivity':[sens], 'specificity':[spec]})\n",
    "    display(df)"
   ]
  },
  {
   "cell_type": "code",
   "execution_count": 67,
   "id": "746ec658",
   "metadata": {},
   "outputs": [],
   "source": [
    "# grilla de hiperparámetros\n",
    "\n",
    "svc_C_values = [10** i for i in range(-5,5)]\n",
    "en_l1_ratios = [0.05, 0.1, 0.2, 0.3]\n",
    "en_K = 25"
   ]
  },
  {
   "cell_type": "markdown",
   "id": "3c19f9fd",
   "metadata": {},
   "source": [
    "### Peking"
   ]
  },
  {
   "cell_type": "code",
   "execution_count": 62,
   "id": "2a43ad5a",
   "metadata": {},
   "outputs": [],
   "source": [
    "train_data_path = 'data/data_raj_train_Peking_preproc.csv'\n",
    "test_data_path = 'data/data_raj_test_Peking_preproc.csv'"
   ]
  },
  {
   "cell_type": "code",
   "execution_count": null,
   "id": "6b71aabb",
   "metadata": {},
   "outputs": [],
   "source": [
    "df_raj_Peking, grid_search_raj_Peking = cv_elasticnet_svc(train_data_path, svc_C_values=svc_C_values, en_l1_ratios=en_l1_ratios, en_K=en_K)\n",
    "df_raj_Peking.to_csv('cv_results_raj_Peking.csv')"
   ]
  },
  {
   "cell_type": "code",
   "execution_count": 69,
   "id": "10d070a4",
   "metadata": {},
   "outputs": [
    {
     "name": "stdout",
     "output_type": "stream",
     "text": [
      "Mejores parámetros\n"
     ]
    },
    {
     "data": {
      "text/html": [
       "<div>\n",
       "<style scoped>\n",
       "    .dataframe tbody tr th:only-of-type {\n",
       "        vertical-align: middle;\n",
       "    }\n",
       "\n",
       "    .dataframe tbody tr th {\n",
       "        vertical-align: top;\n",
       "    }\n",
       "\n",
       "    .dataframe thead th {\n",
       "        text-align: right;\n",
       "    }\n",
       "</style>\n",
       "<table border=\"1\" class=\"dataframe\">\n",
       "  <thead>\n",
       "    <tr style=\"text-align: right;\">\n",
       "      <th></th>\n",
       "      <th>param_selector__estimator__C</th>\n",
       "      <th>param_selector__estimator__l1_ratio</th>\n",
       "      <th>param_svc__C</th>\n",
       "    </tr>\n",
       "  </thead>\n",
       "  <tbody>\n",
       "    <tr>\n",
       "      <th>0</th>\n",
       "      <td>0.001778</td>\n",
       "      <td>0.05</td>\n",
       "      <td>0.01</td>\n",
       "    </tr>\n",
       "  </tbody>\n",
       "</table>\n",
       "</div>"
      ],
      "text/plain": [
       "  param_selector__estimator__C param_selector__estimator__l1_ratio  \\\n",
       "0                     0.001778                                0.05   \n",
       "\n",
       "  param_svc__C  \n",
       "0         0.01  "
      ]
     },
     "metadata": {},
     "output_type": "display_data"
    },
    {
     "name": "stdout",
     "output_type": "stream",
     "text": [
      "Número de variables seleccionadas: 3\n",
      "\n",
      "Métricas validación cruzada (train)\n"
     ]
    },
    {
     "data": {
      "text/html": [
       "<div>\n",
       "<style scoped>\n",
       "    .dataframe tbody tr th:only-of-type {\n",
       "        vertical-align: middle;\n",
       "    }\n",
       "\n",
       "    .dataframe tbody tr th {\n",
       "        vertical-align: top;\n",
       "    }\n",
       "\n",
       "    .dataframe thead th {\n",
       "        text-align: right;\n",
       "    }\n",
       "</style>\n",
       "<table border=\"1\" class=\"dataframe\">\n",
       "  <thead>\n",
       "    <tr style=\"text-align: right;\">\n",
       "      <th></th>\n",
       "      <th>mean_test_accuracy</th>\n",
       "      <th>std_test_accuracy</th>\n",
       "      <th>mean_test_f1_macro</th>\n",
       "      <th>std_test_f1_macro</th>\n",
       "      <th>mean_test_sensitivity</th>\n",
       "      <th>mean_test_specificity</th>\n",
       "    </tr>\n",
       "  </thead>\n",
       "  <tbody>\n",
       "    <tr>\n",
       "      <th>0</th>\n",
       "      <td>0.811765</td>\n",
       "      <td>0.068599</td>\n",
       "      <td>0.769781</td>\n",
       "      <td>0.072546</td>\n",
       "      <td>0.67</td>\n",
       "      <td>0.867949</td>\n",
       "    </tr>\n",
       "  </tbody>\n",
       "</table>\n",
       "</div>"
      ],
      "text/plain": [
       "   mean_test_accuracy  std_test_accuracy  mean_test_f1_macro  \\\n",
       "0            0.811765           0.068599            0.769781   \n",
       "\n",
       "   std_test_f1_macro  mean_test_sensitivity  mean_test_specificity  \n",
       "0           0.072546                   0.67               0.867949  "
      ]
     },
     "metadata": {},
     "output_type": "display_data"
    },
    {
     "name": "stdout",
     "output_type": "stream",
     "text": [
      "\n",
      "Métricas train\n"
     ]
    },
    {
     "data": {
      "text/html": [
       "<div>\n",
       "<style scoped>\n",
       "    .dataframe tbody tr th:only-of-type {\n",
       "        vertical-align: middle;\n",
       "    }\n",
       "\n",
       "    .dataframe tbody tr th {\n",
       "        vertical-align: top;\n",
       "    }\n",
       "\n",
       "    .dataframe thead th {\n",
       "        text-align: right;\n",
       "    }\n",
       "</style>\n",
       "<table border=\"1\" class=\"dataframe\">\n",
       "  <thead>\n",
       "    <tr style=\"text-align: right;\">\n",
       "      <th></th>\n",
       "      <th>accuracy</th>\n",
       "      <th>f1_macro</th>\n",
       "      <th>sensitivity</th>\n",
       "      <th>specificity</th>\n",
       "    </tr>\n",
       "  </thead>\n",
       "  <tbody>\n",
       "    <tr>\n",
       "      <th>0</th>\n",
       "      <td>0.788235</td>\n",
       "      <td>0.689655</td>\n",
       "      <td>0.833333</td>\n",
       "      <td>0.770492</td>\n",
       "    </tr>\n",
       "  </tbody>\n",
       "</table>\n",
       "</div>"
      ],
      "text/plain": [
       "   accuracy  f1_macro  sensitivity  specificity\n",
       "0  0.788235  0.689655     0.833333     0.770492"
      ]
     },
     "metadata": {},
     "output_type": "display_data"
    },
    {
     "name": "stdout",
     "output_type": "stream",
     "text": [
      "\n",
      "Métricas test\n"
     ]
    },
    {
     "data": {
      "text/html": [
       "<div>\n",
       "<style scoped>\n",
       "    .dataframe tbody tr th:only-of-type {\n",
       "        vertical-align: middle;\n",
       "    }\n",
       "\n",
       "    .dataframe tbody tr th {\n",
       "        vertical-align: top;\n",
       "    }\n",
       "\n",
       "    .dataframe thead th {\n",
       "        text-align: right;\n",
       "    }\n",
       "</style>\n",
       "<table border=\"1\" class=\"dataframe\">\n",
       "  <thead>\n",
       "    <tr style=\"text-align: right;\">\n",
       "      <th></th>\n",
       "      <th>accuracy</th>\n",
       "      <th>f1_macro</th>\n",
       "      <th>sensitivity</th>\n",
       "      <th>specificity</th>\n",
       "    </tr>\n",
       "  </thead>\n",
       "  <tbody>\n",
       "    <tr>\n",
       "      <th>0</th>\n",
       "      <td>0.705882</td>\n",
       "      <td>0.666667</td>\n",
       "      <td>0.625</td>\n",
       "      <td>0.777778</td>\n",
       "    </tr>\n",
       "  </tbody>\n",
       "</table>\n",
       "</div>"
      ],
      "text/plain": [
       "   accuracy  f1_macro  sensitivity  specificity\n",
       "0  0.705882  0.666667        0.625     0.777778"
      ]
     },
     "metadata": {},
     "output_type": "display_data"
    }
   ],
   "source": [
    "report(grid_search_raj_Peking, train_data_path, test_data_path)"
   ]
  },
  {
   "cell_type": "markdown",
   "id": "3c19f9fd",
   "metadata": {},
   "source": [
    "### KKI"
   ]
  },
  {
   "cell_type": "code",
   "execution_count": 74,
   "id": "2a43ad5a",
   "metadata": {},
   "outputs": [],
   "source": [
    "train_data_path = 'data/data_raj_train_KKI_preproc.csv'\n",
    "test_data_path = 'data/data_raj_test_KKI_preproc.csv'"
   ]
  },
  {
   "cell_type": "code",
   "execution_count": null,
   "id": "bc44eef1",
   "metadata": {},
   "outputs": [],
   "source": [
    "df_raj_KKI, grid_search_raj_KKI = cv_elasticnet_svc(train_data_path, svc_C_values=svc_C_values, en_l1_ratios=en_l1_ratios, en_K=en_K)\n",
    "df_raj_KKI.to_csv('cv_results_raj_KKI.csv')"
   ]
  },
  {
   "cell_type": "code",
   "execution_count": 76,
   "id": "610420ad",
   "metadata": {},
   "outputs": [
    {
     "name": "stdout",
     "output_type": "stream",
     "text": [
      "Mejores parámetros\n"
     ]
    },
    {
     "data": {
      "text/html": [
       "<div>\n",
       "<style scoped>\n",
       "    .dataframe tbody tr th:only-of-type {\n",
       "        vertical-align: middle;\n",
       "    }\n",
       "\n",
       "    .dataframe tbody tr th {\n",
       "        vertical-align: top;\n",
       "    }\n",
       "\n",
       "    .dataframe thead th {\n",
       "        text-align: right;\n",
       "    }\n",
       "</style>\n",
       "<table border=\"1\" class=\"dataframe\">\n",
       "  <thead>\n",
       "    <tr style=\"text-align: right;\">\n",
       "      <th></th>\n",
       "      <th>param_selector__estimator__C</th>\n",
       "      <th>param_selector__estimator__l1_ratio</th>\n",
       "      <th>param_svc__C</th>\n",
       "    </tr>\n",
       "  </thead>\n",
       "  <tbody>\n",
       "    <tr>\n",
       "      <th>0</th>\n",
       "      <td>0.014678</td>\n",
       "      <td>0.3</td>\n",
       "      <td>0.001</td>\n",
       "    </tr>\n",
       "  </tbody>\n",
       "</table>\n",
       "</div>"
      ],
      "text/plain": [
       "  param_selector__estimator__C param_selector__estimator__l1_ratio  \\\n",
       "0                     0.014678                                 0.3   \n",
       "\n",
       "  param_svc__C  \n",
       "0        0.001  "
      ]
     },
     "metadata": {},
     "output_type": "display_data"
    },
    {
     "name": "stdout",
     "output_type": "stream",
     "text": [
      "Número de variables seleccionadas: 64\n",
      "\n",
      "Métricas validación cruzada (train)\n"
     ]
    },
    {
     "data": {
      "text/html": [
       "<div>\n",
       "<style scoped>\n",
       "    .dataframe tbody tr th:only-of-type {\n",
       "        vertical-align: middle;\n",
       "    }\n",
       "\n",
       "    .dataframe tbody tr th {\n",
       "        vertical-align: top;\n",
       "    }\n",
       "\n",
       "    .dataframe thead th {\n",
       "        text-align: right;\n",
       "    }\n",
       "</style>\n",
       "<table border=\"1\" class=\"dataframe\">\n",
       "  <thead>\n",
       "    <tr style=\"text-align: right;\">\n",
       "      <th></th>\n",
       "      <th>mean_test_accuracy</th>\n",
       "      <th>std_test_accuracy</th>\n",
       "      <th>mean_test_f1_macro</th>\n",
       "      <th>std_test_f1_macro</th>\n",
       "      <th>mean_test_sensitivity</th>\n",
       "      <th>mean_test_specificity</th>\n",
       "    </tr>\n",
       "  </thead>\n",
       "  <tbody>\n",
       "    <tr>\n",
       "      <th>0</th>\n",
       "      <td>0.736765</td>\n",
       "      <td>0.083985</td>\n",
       "      <td>0.560952</td>\n",
       "      <td>0.101541</td>\n",
       "      <td>0.19</td>\n",
       "      <td>0.935897</td>\n",
       "    </tr>\n",
       "  </tbody>\n",
       "</table>\n",
       "</div>"
      ],
      "text/plain": [
       "   mean_test_accuracy  std_test_accuracy  mean_test_f1_macro  \\\n",
       "0            0.736765           0.083985            0.560952   \n",
       "\n",
       "   std_test_f1_macro  mean_test_sensitivity  mean_test_specificity  \n",
       "0           0.101541                   0.19               0.935897  "
      ]
     },
     "metadata": {},
     "output_type": "display_data"
    },
    {
     "name": "stdout",
     "output_type": "stream",
     "text": [
      "\n",
      "Métricas train\n"
     ]
    },
    {
     "data": {
      "text/html": [
       "<div>\n",
       "<style scoped>\n",
       "    .dataframe tbody tr th:only-of-type {\n",
       "        vertical-align: middle;\n",
       "    }\n",
       "\n",
       "    .dataframe tbody tr th {\n",
       "        vertical-align: top;\n",
       "    }\n",
       "\n",
       "    .dataframe thead th {\n",
       "        text-align: right;\n",
       "    }\n",
       "</style>\n",
       "<table border=\"1\" class=\"dataframe\">\n",
       "  <thead>\n",
       "    <tr style=\"text-align: right;\">\n",
       "      <th></th>\n",
       "      <th>accuracy</th>\n",
       "      <th>f1_macro</th>\n",
       "      <th>sensitivity</th>\n",
       "      <th>specificity</th>\n",
       "    </tr>\n",
       "  </thead>\n",
       "  <tbody>\n",
       "    <tr>\n",
       "      <th>0</th>\n",
       "      <td>0.963855</td>\n",
       "      <td>0.926829</td>\n",
       "      <td>0.863636</td>\n",
       "      <td>1.0</td>\n",
       "    </tr>\n",
       "  </tbody>\n",
       "</table>\n",
       "</div>"
      ],
      "text/plain": [
       "   accuracy  f1_macro  sensitivity  specificity\n",
       "0  0.963855  0.926829     0.863636          1.0"
      ]
     },
     "metadata": {},
     "output_type": "display_data"
    },
    {
     "name": "stdout",
     "output_type": "stream",
     "text": [
      "\n",
      "Métricas test\n"
     ]
    },
    {
     "data": {
      "text/html": [
       "<div>\n",
       "<style scoped>\n",
       "    .dataframe tbody tr th:only-of-type {\n",
       "        vertical-align: middle;\n",
       "    }\n",
       "\n",
       "    .dataframe tbody tr th {\n",
       "        vertical-align: top;\n",
       "    }\n",
       "\n",
       "    .dataframe thead th {\n",
       "        text-align: right;\n",
       "    }\n",
       "</style>\n",
       "<table border=\"1\" class=\"dataframe\">\n",
       "  <thead>\n",
       "    <tr style=\"text-align: right;\">\n",
       "      <th></th>\n",
       "      <th>accuracy</th>\n",
       "      <th>f1_macro</th>\n",
       "      <th>sensitivity</th>\n",
       "      <th>specificity</th>\n",
       "    </tr>\n",
       "  </thead>\n",
       "  <tbody>\n",
       "    <tr>\n",
       "      <th>0</th>\n",
       "      <td>0.727273</td>\n",
       "      <td>0.4</td>\n",
       "      <td>0.333333</td>\n",
       "      <td>0.875</td>\n",
       "    </tr>\n",
       "  </tbody>\n",
       "</table>\n",
       "</div>"
      ],
      "text/plain": [
       "   accuracy  f1_macro  sensitivity  specificity\n",
       "0  0.727273       0.4     0.333333        0.875"
      ]
     },
     "metadata": {},
     "output_type": "display_data"
    }
   ],
   "source": [
    "report(grid_search_raj_KKI, train_data_path, test_data_path)"
   ]
  }
 ],
 "metadata": {
  "interpreter": {
   "hash": "755f4088592e2ca23da0ea5c845a97fbd67bd8d07a47301bdd385c93533968f4"
  },
  "kernelspec": {
   "display_name": "Python 3.7.9 ('base')",
   "language": "python",
   "name": "python3"
  },
  "language_info": {
   "codemirror_mode": {
    "name": "ipython",
    "version": 3
   },
   "file_extension": ".py",
   "mimetype": "text/x-python",
   "name": "python",
   "nbconvert_exporter": "python",
   "pygments_lexer": "ipython3",
   "version": "3.7.9"
  },
  "varInspector": {
   "cols": {
    "lenName": 16,
    "lenType": 16,
    "lenVar": 40
   },
   "kernels_config": {
    "python": {
     "delete_cmd_postfix": "",
     "delete_cmd_prefix": "del ",
     "library": "var_list.py",
     "varRefreshCmd": "print(var_dic_list())"
    },
    "r": {
     "delete_cmd_postfix": ") ",
     "delete_cmd_prefix": "rm(",
     "library": "var_list.r",
     "varRefreshCmd": "cat(var_dic_list()) "
    }
   },
   "types_to_exclude": [
    "module",
    "function",
    "builtin_function_or_method",
    "instance",
    "_Feature"
   ],
   "window_display": false
  },
  "vscode": {
   "interpreter": {
    "hash": "b2e8ea7e7c9e43cc912a89b35d39125950f0bbcd315fe46c680cc7adb554b3da"
   }
  }
 },
 "nbformat": 4,
 "nbformat_minor": 5
}
